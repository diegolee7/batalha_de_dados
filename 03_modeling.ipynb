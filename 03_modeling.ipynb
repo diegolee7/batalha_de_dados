{
 "cells": [
  {
   "cell_type": "code",
   "execution_count": 1,
   "metadata": {},
   "outputs": [],
   "source": [
    "import pandas as pd\n",
    "import boto\n",
    "import s3fs\n",
    "import pandas_profiling\n",
    "import matplotlib.pyplot as plt\n",
    "import datetime "
   ]
  },
  {
   "cell_type": "code",
   "execution_count": 2,
   "metadata": {},
   "outputs": [],
   "source": [
    "df = pd.read_csv('s3://g13batalha/2018-11-10_Sistema_E-Saude_Medicos_-_Base_de_Dados.csv',\n",
    "                 sep=';', error_bad_lines=False, low_memory=False, encoding='windows_1252')"
   ]
  },
  {
   "cell_type": "code",
   "execution_count": 3,
   "metadata": {},
   "outputs": [
    {
     "data": {
      "text/html": [
       "<div>\n",
       "<style scoped>\n",
       "    .dataframe tbody tr th:only-of-type {\n",
       "        vertical-align: middle;\n",
       "    }\n",
       "\n",
       "    .dataframe tbody tr th {\n",
       "        vertical-align: top;\n",
       "    }\n",
       "\n",
       "    .dataframe thead th {\n",
       "        text-align: right;\n",
       "    }\n",
       "</style>\n",
       "<table border=\"1\" class=\"dataframe\">\n",
       "  <thead>\n",
       "    <tr style=\"text-align: right;\">\n",
       "      <th></th>\n",
       "      <th>Data do Atendimento</th>\n",
       "      <th>Data de Nascimento</th>\n",
       "      <th>Sexo</th>\n",
       "      <th>Código do Tipo de Unidade</th>\n",
       "      <th>Tipo de Unidade</th>\n",
       "      <th>Código da Unidade</th>\n",
       "      <th>Descrição da Unidade</th>\n",
       "      <th>Código do Procedimento</th>\n",
       "      <th>Descrição do Procedimento</th>\n",
       "      <th>Código do CBO</th>\n",
       "      <th>...</th>\n",
       "      <th>Tipo de Habitação</th>\n",
       "      <th>Destino Lixo</th>\n",
       "      <th>Fezes/Urina</th>\n",
       "      <th>Cômodos</th>\n",
       "      <th>Em Caso de Doença</th>\n",
       "      <th>Grupo Comunitário</th>\n",
       "      <th>Meio de Comunicacao</th>\n",
       "      <th>Meio de Transporte</th>\n",
       "      <th>Municício</th>\n",
       "      <th>Bairro</th>\n",
       "    </tr>\n",
       "  </thead>\n",
       "  <tbody>\n",
       "    <tr>\n",
       "      <th>0</th>\n",
       "      <td>18/09/2018 20:39:46</td>\n",
       "      <td>12/03/2011 00:00:00</td>\n",
       "      <td>F</td>\n",
       "      <td>2</td>\n",
       "      <td>UPA</td>\n",
       "      <td>17396</td>\n",
       "      <td>UPA BOA VISTA</td>\n",
       "      <td>301060096</td>\n",
       "      <td>ATENDIMENTO MEDICO EM UNIDADE DE PRONTO ATENDI...</td>\n",
       "      <td>225125</td>\n",
       "      <td>...</td>\n",
       "      <td>NaN</td>\n",
       "      <td>NaN</td>\n",
       "      <td>NaN</td>\n",
       "      <td>NaN</td>\n",
       "      <td>NaN</td>\n",
       "      <td>NaN</td>\n",
       "      <td>NaN</td>\n",
       "      <td>NaN</td>\n",
       "      <td>PORTO AMAZONAS</td>\n",
       "      <td>BAIRRO NAO INFORMADO                          ...</td>\n",
       "    </tr>\n",
       "    <tr>\n",
       "      <th>1</th>\n",
       "      <td>30/09/2018 18:38:45</td>\n",
       "      <td>23/09/1984 00:00:00</td>\n",
       "      <td>F</td>\n",
       "      <td>2</td>\n",
       "      <td>UPA</td>\n",
       "      <td>5323495</td>\n",
       "      <td>UPA CIDADE INDUSTRIAL</td>\n",
       "      <td>301060029</td>\n",
       "      <td>ATENDIMENTO DE URGENCIA C/ OBSERVACAO ATE 24 H...</td>\n",
       "      <td>225125</td>\n",
       "      <td>...</td>\n",
       "      <td>NaN</td>\n",
       "      <td>NaN</td>\n",
       "      <td>NaN</td>\n",
       "      <td>NaN</td>\n",
       "      <td>NaN</td>\n",
       "      <td>NaN</td>\n",
       "      <td>NaN</td>\n",
       "      <td>NaN</td>\n",
       "      <td>CURITIBA</td>\n",
       "      <td>CIDADE INDUSTRIAL</td>\n",
       "    </tr>\n",
       "    <tr>\n",
       "      <th>2</th>\n",
       "      <td>20/09/2018 19:26:16</td>\n",
       "      <td>03/12/1996 00:00:00</td>\n",
       "      <td>F</td>\n",
       "      <td>2</td>\n",
       "      <td>UPA</td>\n",
       "      <td>17396</td>\n",
       "      <td>UPA BOA VISTA</td>\n",
       "      <td>301060096</td>\n",
       "      <td>ATENDIMENTO MEDICO EM UNIDADE DE PRONTO ATENDI...</td>\n",
       "      <td>225125</td>\n",
       "      <td>...</td>\n",
       "      <td>NaN</td>\n",
       "      <td>NaN</td>\n",
       "      <td>NaN</td>\n",
       "      <td>NaN</td>\n",
       "      <td>NaN</td>\n",
       "      <td>NaN</td>\n",
       "      <td>NaN</td>\n",
       "      <td>NaN</td>\n",
       "      <td>CURITIBA</td>\n",
       "      <td>CIDADE INDUSTRIAL</td>\n",
       "    </tr>\n",
       "    <tr>\n",
       "      <th>3</th>\n",
       "      <td>05/07/2018 12:56:28</td>\n",
       "      <td>13/06/1931 00:00:00</td>\n",
       "      <td>M</td>\n",
       "      <td>1</td>\n",
       "      <td>BASICO</td>\n",
       "      <td>16845</td>\n",
       "      <td>UMS SAO BRAZ</td>\n",
       "      <td>301010064</td>\n",
       "      <td>CONSULTA MEDICA EM ATENCAO BASICA</td>\n",
       "      <td>225125</td>\n",
       "      <td>...</td>\n",
       "      <td>TIJOLO/ALVENARIA COM REVESTIMENTO</td>\n",
       "      <td>COLETADO</td>\n",
       "      <td>SISTEMA DE ESGOTO</td>\n",
       "      <td>5.0</td>\n",
       "      <td>UNIDADE DE SAUDE</td>\n",
       "      <td>NAO PARTICIPA</td>\n",
       "      <td>TELEVISAO</td>\n",
       "      <td>ONIBUS</td>\n",
       "      <td>CURITIBA</td>\n",
       "      <td>SAO BRAZ                                      ...</td>\n",
       "    </tr>\n",
       "    <tr>\n",
       "      <th>4</th>\n",
       "      <td>26/07/2018 07:46:41</td>\n",
       "      <td>13/06/1931 00:00:00</td>\n",
       "      <td>M</td>\n",
       "      <td>1</td>\n",
       "      <td>BASICO</td>\n",
       "      <td>16845</td>\n",
       "      <td>UMS SAO BRAZ</td>\n",
       "      <td>301010064</td>\n",
       "      <td>CONSULTA MEDICA EM ATENCAO BASICA</td>\n",
       "      <td>225125</td>\n",
       "      <td>...</td>\n",
       "      <td>TIJOLO/ALVENARIA COM REVESTIMENTO</td>\n",
       "      <td>COLETADO</td>\n",
       "      <td>SISTEMA DE ESGOTO</td>\n",
       "      <td>5.0</td>\n",
       "      <td>UNIDADE DE SAUDE</td>\n",
       "      <td>NAO PARTICIPA</td>\n",
       "      <td>TELEVISAO</td>\n",
       "      <td>ONIBUS</td>\n",
       "      <td>CURITIBA</td>\n",
       "      <td>SAO BRAZ                                      ...</td>\n",
       "    </tr>\n",
       "  </tbody>\n",
       "</table>\n",
       "<p>5 rows × 37 columns</p>\n",
       "</div>"
      ],
      "text/plain": [
       "   Data do Atendimento   Data de Nascimento Sexo  Código do Tipo de Unidade  \\\n",
       "0  18/09/2018 20:39:46  12/03/2011 00:00:00    F                          2   \n",
       "1  30/09/2018 18:38:45  23/09/1984 00:00:00    F                          2   \n",
       "2  20/09/2018 19:26:16  03/12/1996 00:00:00    F                          2   \n",
       "3  05/07/2018 12:56:28  13/06/1931 00:00:00    M                          1   \n",
       "4  26/07/2018 07:46:41  13/06/1931 00:00:00    M                          1   \n",
       "\n",
       "  Tipo de Unidade  Código da Unidade   Descrição da Unidade  \\\n",
       "0             UPA              17396          UPA BOA VISTA   \n",
       "1             UPA            5323495  UPA CIDADE INDUSTRIAL   \n",
       "2             UPA              17396          UPA BOA VISTA   \n",
       "3          BASICO              16845           UMS SAO BRAZ   \n",
       "4          BASICO              16845           UMS SAO BRAZ   \n",
       "\n",
       "   Código do Procedimento                          Descrição do Procedimento  \\\n",
       "0               301060096  ATENDIMENTO MEDICO EM UNIDADE DE PRONTO ATENDI...   \n",
       "1               301060029  ATENDIMENTO DE URGENCIA C/ OBSERVACAO ATE 24 H...   \n",
       "2               301060096  ATENDIMENTO MEDICO EM UNIDADE DE PRONTO ATENDI...   \n",
       "3               301010064                  CONSULTA MEDICA EM ATENCAO BASICA   \n",
       "4               301010064                  CONSULTA MEDICA EM ATENCAO BASICA   \n",
       "\n",
       "  Código do CBO                        ...                          \\\n",
       "0        225125                        ...                           \n",
       "1        225125                        ...                           \n",
       "2        225125                        ...                           \n",
       "3        225125                        ...                           \n",
       "4        225125                        ...                           \n",
       "\n",
       "                   Tipo de Habitação Destino Lixo        Fezes/Urina Cômodos  \\\n",
       "0                                NaN          NaN                NaN     NaN   \n",
       "1                                NaN          NaN                NaN     NaN   \n",
       "2                                NaN          NaN                NaN     NaN   \n",
       "3  TIJOLO/ALVENARIA COM REVESTIMENTO     COLETADO  SISTEMA DE ESGOTO     5.0   \n",
       "4  TIJOLO/ALVENARIA COM REVESTIMENTO     COLETADO  SISTEMA DE ESGOTO     5.0   \n",
       "\n",
       "  Em Caso de Doença  Grupo Comunitário Meio de Comunicacao Meio de Transporte  \\\n",
       "0               NaN                NaN                 NaN                NaN   \n",
       "1               NaN                NaN                 NaN                NaN   \n",
       "2               NaN                NaN                 NaN                NaN   \n",
       "3  UNIDADE DE SAUDE      NAO PARTICIPA           TELEVISAO             ONIBUS   \n",
       "4  UNIDADE DE SAUDE      NAO PARTICIPA           TELEVISAO             ONIBUS   \n",
       "\n",
       "        Municício                                             Bairro  \n",
       "0  PORTO AMAZONAS  BAIRRO NAO INFORMADO                          ...  \n",
       "1        CURITIBA                                  CIDADE INDUSTRIAL  \n",
       "2        CURITIBA                                  CIDADE INDUSTRIAL  \n",
       "3        CURITIBA  SAO BRAZ                                      ...  \n",
       "4        CURITIBA  SAO BRAZ                                      ...  \n",
       "\n",
       "[5 rows x 37 columns]"
      ]
     },
     "execution_count": 3,
     "metadata": {},
     "output_type": "execute_result"
    }
   ],
   "source": [
    "df.head()"
   ]
  },
  {
   "cell_type": "code",
   "execution_count": 4,
   "metadata": {},
   "outputs": [
    {
     "data": {
      "text/plain": [
       "(962710, 37)"
      ]
     },
     "execution_count": 4,
     "metadata": {},
     "output_type": "execute_result"
    }
   ],
   "source": [
    "df.shape"
   ]
  },
  {
   "cell_type": "code",
   "execution_count": 5,
   "metadata": {},
   "outputs": [
    {
     "data": {
      "text/plain": [
       "Index(['Data do Atendimento', 'Data de Nascimento', 'Sexo',\n",
       "       'Código do Tipo de Unidade', 'Tipo de Unidade', 'Código da Unidade',\n",
       "       'Descrição da Unidade', 'Código do Procedimento',\n",
       "       'Descrição do Procedimento', 'Código do CBO', 'Descrição do CBO',\n",
       "       'Código do CID', 'Descrição do CID', 'Solicitação de Exames',\n",
       "       'Qtde Prescrita Farmácia Curitibana',\n",
       "       'Qtde Dispensada Farmácia Curitibana',\n",
       "       'Qtde de Medicamento Não Padronizado',\n",
       "       'Encaminhamento para Atendimento Especialista', 'Área de Atuação',\n",
       "       'Desencadeou Internamento', 'Data do Internamento',\n",
       "       'Estabelecimento Solicitante', 'Estabelecimento Destino',\n",
       "       'CID do Internamento', 'Tratamento no Domicílio', 'Abastecimento',\n",
       "       'Energia Elétrica', 'Tipo de Habitação', 'Destino Lixo', 'Fezes/Urina',\n",
       "       'Cômodos', 'Em Caso de Doença', 'Grupo Comunitário',\n",
       "       'Meio de Comunicacao', 'Meio de Transporte', 'Municício', 'Bairro'],\n",
       "      dtype='object')"
      ]
     },
     "execution_count": 5,
     "metadata": {},
     "output_type": "execute_result"
    }
   ],
   "source": [
    "df.columns"
   ]
  },
  {
   "cell_type": "code",
   "execution_count": 6,
   "metadata": {},
   "outputs": [],
   "source": [
    "columns = [\n",
    "    'Data do Atendimento', 'Descrição da Unidade', \n",
    "    'Desencadeou Internamento', 'Energia Elétrica', \n",
    "    'Tipo de Habitação', 'Destino Lixo', 'Fezes/Urina',\n",
    "    'Meio de Transporte', 'Bairro']"
   ]
  },
  {
   "cell_type": "code",
   "execution_count": 7,
   "metadata": {},
   "outputs": [],
   "source": [
    "df = df[columns]"
   ]
  },
  {
   "cell_type": "code",
   "execution_count": 8,
   "metadata": {},
   "outputs": [
    {
     "name": "stdout",
     "output_type": "stream",
     "text": [
      "<class 'pandas.core.frame.DataFrame'>\n",
      "RangeIndex: 962710 entries, 0 to 962709\n",
      "Data columns (total 9 columns):\n",
      "Data do Atendimento         962710 non-null object\n",
      "Descrição da Unidade        962710 non-null object\n",
      "Desencadeou Internamento    962710 non-null object\n",
      "Energia Elétrica            962710 non-null object\n",
      "Tipo de Habitação           847016 non-null object\n",
      "Destino Lixo                847014 non-null object\n",
      "Fezes/Urina                 847015 non-null object\n",
      "Meio de Transporte          846958 non-null object\n",
      "Bairro                      962710 non-null object\n",
      "dtypes: object(9)\n",
      "memory usage: 66.1+ MB\n"
     ]
    }
   ],
   "source": [
    "df.info()"
   ]
  },
  {
   "cell_type": "code",
   "execution_count": 9,
   "metadata": {},
   "outputs": [
    {
     "data": {
      "text/plain": [
       "Data do Atendimento              0\n",
       "Descrição da Unidade             0\n",
       "Desencadeou Internamento         0\n",
       "Energia Elétrica                 0\n",
       "Tipo de Habitação           115694\n",
       "Destino Lixo                115696\n",
       "Fezes/Urina                 115695\n",
       "Meio de Transporte          115752\n",
       "Bairro                           0\n",
       "dtype: int64"
      ]
     },
     "execution_count": 9,
     "metadata": {},
     "output_type": "execute_result"
    }
   ],
   "source": [
    "df.isnull().sum()"
   ]
  },
  {
   "cell_type": "code",
   "execution_count": 10,
   "metadata": {},
   "outputs": [],
   "source": [
    "df = df.dropna()"
   ]
  },
  {
   "cell_type": "markdown",
   "metadata": {},
   "source": [
    "# Create Target Value"
   ]
  },
  {
   "cell_type": "code",
   "execution_count": 11,
   "metadata": {},
   "outputs": [],
   "source": [
    "df['Data do Atendimento'] = pd.to_datetime(df['Data do Atendimento'])\n",
    "df['Data_Dia'] = df['Data do Atendimento'].dt.floor('d')\n",
    "df['Data_Hora'] = df['Data do Atendimento'].dt.floor('h')"
   ]
  },
  {
   "cell_type": "code",
   "execution_count": 12,
   "metadata": {},
   "outputs": [],
   "source": [
    "df_target = df.groupby(['Data_Dia', 'Descrição da Unidade']).agg('count').reset_index()"
   ]
  },
  {
   "cell_type": "code",
   "execution_count": 13,
   "metadata": {},
   "outputs": [],
   "source": [
    "df_target = df_target.iloc[:, :3]"
   ]
  },
  {
   "cell_type": "code",
   "execution_count": 14,
   "metadata": {},
   "outputs": [],
   "source": [
    "df_target.columns = ['Data_Dia', 'Descrição da Unidade', 'Atendimentos']"
   ]
  },
  {
   "cell_type": "code",
   "execution_count": 15,
   "metadata": {},
   "outputs": [
    {
     "data": {
      "text/html": [
       "<div>\n",
       "<style scoped>\n",
       "    .dataframe tbody tr th:only-of-type {\n",
       "        vertical-align: middle;\n",
       "    }\n",
       "\n",
       "    .dataframe tbody tr th {\n",
       "        vertical-align: top;\n",
       "    }\n",
       "\n",
       "    .dataframe thead th {\n",
       "        text-align: right;\n",
       "    }\n",
       "</style>\n",
       "<table border=\"1\" class=\"dataframe\">\n",
       "  <thead>\n",
       "    <tr style=\"text-align: right;\">\n",
       "      <th></th>\n",
       "      <th>Data_Dia</th>\n",
       "      <th>Descrição da Unidade</th>\n",
       "      <th>Atendimentos</th>\n",
       "    </tr>\n",
       "  </thead>\n",
       "  <tbody>\n",
       "    <tr>\n",
       "      <th>0</th>\n",
       "      <td>2018-01-07</td>\n",
       "      <td>UPA BOA VISTA</td>\n",
       "      <td>272</td>\n",
       "    </tr>\n",
       "    <tr>\n",
       "      <th>1</th>\n",
       "      <td>2018-01-07</td>\n",
       "      <td>UPA BOQUEIRAO</td>\n",
       "      <td>315</td>\n",
       "    </tr>\n",
       "    <tr>\n",
       "      <th>2</th>\n",
       "      <td>2018-01-07</td>\n",
       "      <td>UPA CAJURU</td>\n",
       "      <td>336</td>\n",
       "    </tr>\n",
       "    <tr>\n",
       "      <th>3</th>\n",
       "      <td>2018-01-07</td>\n",
       "      <td>UPA CAMPO COMPRIDO</td>\n",
       "      <td>273</td>\n",
       "    </tr>\n",
       "    <tr>\n",
       "      <th>4</th>\n",
       "      <td>2018-01-07</td>\n",
       "      <td>UPA FAZENDINHA</td>\n",
       "      <td>277</td>\n",
       "    </tr>\n",
       "  </tbody>\n",
       "</table>\n",
       "</div>"
      ],
      "text/plain": [
       "    Data_Dia Descrição da Unidade  Atendimentos\n",
       "0 2018-01-07        UPA BOA VISTA           272\n",
       "1 2018-01-07        UPA BOQUEIRAO           315\n",
       "2 2018-01-07           UPA CAJURU           336\n",
       "3 2018-01-07   UPA CAMPO COMPRIDO           273\n",
       "4 2018-01-07       UPA FAZENDINHA           277"
      ]
     },
     "execution_count": 15,
     "metadata": {},
     "output_type": "execute_result"
    }
   ],
   "source": [
    "df_target.head()"
   ]
  },
  {
   "cell_type": "markdown",
   "metadata": {},
   "source": [
    "# Groupings"
   ]
  },
  {
   "cell_type": "markdown",
   "metadata": {},
   "source": [
    "### Tipo Habitação"
   ]
  },
  {
   "cell_type": "code",
   "execution_count": 16,
   "metadata": {},
   "outputs": [
    {
     "data": {
      "text/plain": [
       "TIJOLO/ALVENARIA COM REVESTIMENTO    740635\n",
       "MADEIRA APARELHADA                    75331\n",
       "TIJOLO ALVENARIA SEM REVESTIMENTO     14662\n",
       "OUTRO MATERIAL                        11577\n",
       "MATERIAL APROVEITADO                   2429\n",
       "TAIPA COM REVESTIMENTO                 1762\n",
       "TAIPA SEM REVESTIMENTO                  374\n",
       "PALHA                                   178\n",
       "Name: Tipo de Habitação, dtype: int64"
      ]
     },
     "execution_count": 16,
     "metadata": {},
     "output_type": "execute_result"
    }
   ],
   "source": [
    "df['Tipo de Habitação'].value_counts()"
   ]
  },
  {
   "cell_type": "code",
   "execution_count": 17,
   "metadata": {},
   "outputs": [],
   "source": [
    "df['Habitacao_ma_qualidade'] = 0\n",
    "df.loc[df['Tipo de Habitação'] != 'TIJOLO/ALVENARIA COM REVESTIMENTO', 'Habitacao_ma_qualidade'] = 1"
   ]
  },
  {
   "cell_type": "code",
   "execution_count": 18,
   "metadata": {},
   "outputs": [
    {
     "data": {
      "text/plain": [
       "0    740635\n",
       "1    106313\n",
       "Name: Habitacao_ma_qualidade, dtype: int64"
      ]
     },
     "execution_count": 18,
     "metadata": {},
     "output_type": "execute_result"
    }
   ],
   "source": [
    "df['Habitacao_ma_qualidade'].value_counts()"
   ]
  },
  {
   "cell_type": "markdown",
   "metadata": {},
   "source": [
    "### Destino Lixo"
   ]
  },
  {
   "cell_type": "code",
   "execution_count": 19,
   "metadata": {},
   "outputs": [
    {
     "data": {
      "text/plain": [
       "COLETADO              837723\n",
       "OUTROS                  6640\n",
       "QUEIMADO/ENTERRADO      1467\n",
       "CÉU ABERTO              1118\n",
       "Name: Destino Lixo, dtype: int64"
      ]
     },
     "execution_count": 19,
     "metadata": {},
     "output_type": "execute_result"
    }
   ],
   "source": [
    "df['Destino Lixo'].value_counts()"
   ]
  },
  {
   "cell_type": "code",
   "execution_count": 20,
   "metadata": {},
   "outputs": [],
   "source": [
    "df['Lixo_ma_qualidade'] = 0\n",
    "df.loc[df['Destino Lixo'] != 'COLETADO', 'Lixo_ma_qualidade'] = 1"
   ]
  },
  {
   "cell_type": "code",
   "execution_count": 21,
   "metadata": {},
   "outputs": [
    {
     "data": {
      "text/plain": [
       "0    837723\n",
       "1      9225\n",
       "Name: Lixo_ma_qualidade, dtype: int64"
      ]
     },
     "execution_count": 21,
     "metadata": {},
     "output_type": "execute_result"
    }
   ],
   "source": [
    "df['Lixo_ma_qualidade'].value_counts()"
   ]
  },
  {
   "cell_type": "markdown",
   "metadata": {},
   "source": [
    "### Energia Elétrica"
   ]
  },
  {
   "cell_type": "code",
   "execution_count": 22,
   "metadata": {},
   "outputs": [
    {
     "data": {
      "text/plain": [
       "Sim    804402\n",
       "Nao     42546\n",
       "Name: Energia Elétrica, dtype: int64"
      ]
     },
     "execution_count": 22,
     "metadata": {},
     "output_type": "execute_result"
    }
   ],
   "source": [
    "df['Energia Elétrica'].value_counts()"
   ]
  },
  {
   "cell_type": "code",
   "execution_count": 23,
   "metadata": {},
   "outputs": [],
   "source": [
    "df['Sem_energia'] = 0\n",
    "df.loc[df['Energia Elétrica'] != 'Sim', 'Sem_energia'] = 1"
   ]
  },
  {
   "cell_type": "markdown",
   "metadata": {},
   "source": [
    "### Meio de Transporte "
   ]
  },
  {
   "cell_type": "code",
   "execution_count": 24,
   "metadata": {},
   "outputs": [],
   "source": [
    "df['Sem_Carro'] = df['Meio de Transporte'].apply(lambda x: 'CARRO' not in x)"
   ]
  },
  {
   "cell_type": "code",
   "execution_count": 25,
   "metadata": {},
   "outputs": [
    {
     "data": {
      "text/plain": [
       "True     521912\n",
       "False    325036\n",
       "Name: Sem_Carro, dtype: int64"
      ]
     },
     "execution_count": 25,
     "metadata": {},
     "output_type": "execute_result"
    }
   ],
   "source": [
    "df['Sem_Carro'].value_counts()"
   ]
  },
  {
   "cell_type": "markdown",
   "metadata": {},
   "source": [
    "# Choose new columns"
   ]
  },
  {
   "cell_type": "code",
   "execution_count": 26,
   "metadata": {},
   "outputs": [
    {
     "data": {
      "text/plain": [
       "Index(['Data do Atendimento', 'Descrição da Unidade',\n",
       "       'Desencadeou Internamento', 'Energia Elétrica', 'Tipo de Habitação',\n",
       "       'Destino Lixo', 'Fezes/Urina', 'Meio de Transporte', 'Bairro',\n",
       "       'Data_Dia', 'Data_Hora', 'Habitacao_ma_qualidade', 'Lixo_ma_qualidade',\n",
       "       'Sem_energia', 'Sem_Carro'],\n",
       "      dtype='object')"
      ]
     },
     "execution_count": 26,
     "metadata": {},
     "output_type": "execute_result"
    }
   ],
   "source": [
    "df.columns"
   ]
  },
  {
   "cell_type": "code",
   "execution_count": 27,
   "metadata": {},
   "outputs": [],
   "source": [
    "columns = [\n",
    "    'Data_Dia', 'Descrição da Unidade',\n",
    "    'Desencadeou Internamento',\n",
    "    'Habitacao_ma_qualidade', 'Lixo_ma_qualidade',\n",
    "    'Sem_energia', 'Sem_Carro'\n",
    "]"
   ]
  },
  {
   "cell_type": "code",
   "execution_count": 28,
   "metadata": {},
   "outputs": [],
   "source": [
    "df = df[columns]"
   ]
  },
  {
   "cell_type": "code",
   "execution_count": 29,
   "metadata": {},
   "outputs": [
    {
     "data": {
      "text/html": [
       "<div>\n",
       "<style scoped>\n",
       "    .dataframe tbody tr th:only-of-type {\n",
       "        vertical-align: middle;\n",
       "    }\n",
       "\n",
       "    .dataframe tbody tr th {\n",
       "        vertical-align: top;\n",
       "    }\n",
       "\n",
       "    .dataframe thead th {\n",
       "        text-align: right;\n",
       "    }\n",
       "</style>\n",
       "<table border=\"1\" class=\"dataframe\">\n",
       "  <thead>\n",
       "    <tr style=\"text-align: right;\">\n",
       "      <th></th>\n",
       "      <th>Data_Dia</th>\n",
       "      <th>Descrição da Unidade</th>\n",
       "      <th>Desencadeou Internamento</th>\n",
       "      <th>Habitacao_ma_qualidade</th>\n",
       "      <th>Lixo_ma_qualidade</th>\n",
       "      <th>Sem_energia</th>\n",
       "      <th>Sem_Carro</th>\n",
       "    </tr>\n",
       "  </thead>\n",
       "  <tbody>\n",
       "    <tr>\n",
       "      <th>3</th>\n",
       "      <td>2018-05-07</td>\n",
       "      <td>UMS SAO BRAZ</td>\n",
       "      <td>Nao</td>\n",
       "      <td>0</td>\n",
       "      <td>0</td>\n",
       "      <td>0</td>\n",
       "      <td>True</td>\n",
       "    </tr>\n",
       "    <tr>\n",
       "      <th>4</th>\n",
       "      <td>2018-07-26</td>\n",
       "      <td>UMS SAO BRAZ</td>\n",
       "      <td>Nao</td>\n",
       "      <td>0</td>\n",
       "      <td>0</td>\n",
       "      <td>0</td>\n",
       "      <td>True</td>\n",
       "    </tr>\n",
       "    <tr>\n",
       "      <th>5</th>\n",
       "      <td>2018-10-08</td>\n",
       "      <td>UPA TATUQUARA</td>\n",
       "      <td>Nao</td>\n",
       "      <td>1</td>\n",
       "      <td>0</td>\n",
       "      <td>0</td>\n",
       "      <td>True</td>\n",
       "    </tr>\n",
       "    <tr>\n",
       "      <th>7</th>\n",
       "      <td>2018-07-16</td>\n",
       "      <td>UMS TARUMA PSF</td>\n",
       "      <td>Nao</td>\n",
       "      <td>0</td>\n",
       "      <td>0</td>\n",
       "      <td>0</td>\n",
       "      <td>False</td>\n",
       "    </tr>\n",
       "    <tr>\n",
       "      <th>8</th>\n",
       "      <td>2018-12-07</td>\n",
       "      <td>UMS TARUMA PSF</td>\n",
       "      <td>Nao</td>\n",
       "      <td>0</td>\n",
       "      <td>0</td>\n",
       "      <td>0</td>\n",
       "      <td>False</td>\n",
       "    </tr>\n",
       "  </tbody>\n",
       "</table>\n",
       "</div>"
      ],
      "text/plain": [
       "    Data_Dia Descrição da Unidade Desencadeou Internamento  \\\n",
       "3 2018-05-07         UMS SAO BRAZ                      Nao   \n",
       "4 2018-07-26         UMS SAO BRAZ                      Nao   \n",
       "5 2018-10-08        UPA TATUQUARA                      Nao   \n",
       "7 2018-07-16       UMS TARUMA PSF                      Nao   \n",
       "8 2018-12-07       UMS TARUMA PSF                      Nao   \n",
       "\n",
       "   Habitacao_ma_qualidade  Lixo_ma_qualidade  Sem_energia  Sem_Carro  \n",
       "3                       0                  0            0       True  \n",
       "4                       0                  0            0       True  \n",
       "5                       1                  0            0       True  \n",
       "7                       0                  0            0      False  \n",
       "8                       0                  0            0      False  "
      ]
     },
     "execution_count": 29,
     "metadata": {},
     "output_type": "execute_result"
    }
   ],
   "source": [
    "df.head()"
   ]
  },
  {
   "cell_type": "code",
   "execution_count": 30,
   "metadata": {},
   "outputs": [
    {
     "data": {
      "text/plain": [
       "(846948, 7)"
      ]
     },
     "execution_count": 30,
     "metadata": {},
     "output_type": "execute_result"
    }
   ],
   "source": [
    "df.shape"
   ]
  },
  {
   "cell_type": "code",
   "execution_count": 31,
   "metadata": {},
   "outputs": [
    {
     "data": {
      "text/html": [
       "<div>\n",
       "<style scoped>\n",
       "    .dataframe tbody tr th:only-of-type {\n",
       "        vertical-align: middle;\n",
       "    }\n",
       "\n",
       "    .dataframe tbody tr th {\n",
       "        vertical-align: top;\n",
       "    }\n",
       "\n",
       "    .dataframe thead th {\n",
       "        text-align: right;\n",
       "    }\n",
       "</style>\n",
       "<table border=\"1\" class=\"dataframe\">\n",
       "  <thead>\n",
       "    <tr style=\"text-align: right;\">\n",
       "      <th></th>\n",
       "      <th>Descrição da Unidade</th>\n",
       "      <th>Desencadeou Internamento</th>\n",
       "      <th>Habitacao_ma_qualidade</th>\n",
       "      <th>Lixo_ma_qualidade</th>\n",
       "      <th>Sem_energia</th>\n",
       "      <th>Sem_Carro</th>\n",
       "    </tr>\n",
       "    <tr>\n",
       "      <th>Data_Dia</th>\n",
       "      <th></th>\n",
       "      <th></th>\n",
       "      <th></th>\n",
       "      <th></th>\n",
       "      <th></th>\n",
       "      <th></th>\n",
       "    </tr>\n",
       "  </thead>\n",
       "  <tbody>\n",
       "    <tr>\n",
       "      <th>2018-01-07</th>\n",
       "      <td>UPA TATUQUARA</td>\n",
       "      <td>Nao</td>\n",
       "      <td>1</td>\n",
       "      <td>0</td>\n",
       "      <td>0</td>\n",
       "      <td>False</td>\n",
       "    </tr>\n",
       "    <tr>\n",
       "      <th>2018-01-07</th>\n",
       "      <td>UPA BOA VISTA</td>\n",
       "      <td>Nao</td>\n",
       "      <td>0</td>\n",
       "      <td>0</td>\n",
       "      <td>0</td>\n",
       "      <td>False</td>\n",
       "    </tr>\n",
       "    <tr>\n",
       "      <th>2018-01-07</th>\n",
       "      <td>UPA SITIO CERCADO</td>\n",
       "      <td>Nao</td>\n",
       "      <td>0</td>\n",
       "      <td>0</td>\n",
       "      <td>0</td>\n",
       "      <td>True</td>\n",
       "    </tr>\n",
       "    <tr>\n",
       "      <th>2018-01-07</th>\n",
       "      <td>UPA SITIO CERCADO</td>\n",
       "      <td>Nao</td>\n",
       "      <td>0</td>\n",
       "      <td>0</td>\n",
       "      <td>0</td>\n",
       "      <td>True</td>\n",
       "    </tr>\n",
       "    <tr>\n",
       "      <th>2018-01-07</th>\n",
       "      <td>UPA BOQUEIRAO</td>\n",
       "      <td>Nao</td>\n",
       "      <td>0</td>\n",
       "      <td>0</td>\n",
       "      <td>1</td>\n",
       "      <td>True</td>\n",
       "    </tr>\n",
       "  </tbody>\n",
       "</table>\n",
       "</div>"
      ],
      "text/plain": [
       "           Descrição da Unidade Desencadeou Internamento  \\\n",
       "Data_Dia                                                   \n",
       "2018-01-07        UPA TATUQUARA                      Nao   \n",
       "2018-01-07        UPA BOA VISTA                      Nao   \n",
       "2018-01-07    UPA SITIO CERCADO                      Nao   \n",
       "2018-01-07    UPA SITIO CERCADO                      Nao   \n",
       "2018-01-07        UPA BOQUEIRAO                      Nao   \n",
       "\n",
       "            Habitacao_ma_qualidade  Lixo_ma_qualidade  Sem_energia  Sem_Carro  \n",
       "Data_Dia                                                                       \n",
       "2018-01-07                       1                  0            0      False  \n",
       "2018-01-07                       0                  0            0      False  \n",
       "2018-01-07                       0                  0            0       True  \n",
       "2018-01-07                       0                  0            0       True  \n",
       "2018-01-07                       0                  0            1       True  "
      ]
     },
     "execution_count": 31,
     "metadata": {},
     "output_type": "execute_result"
    }
   ],
   "source": [
    "df = df.sort_values('Data_Dia')\n",
    "df_grouped = df.set_index('Data_Dia')\n",
    "df_grouped.head()"
   ]
  },
  {
   "cell_type": "code",
   "execution_count": 32,
   "metadata": {},
   "outputs": [],
   "source": [
    "# Missing days should be threated in a future version\n",
    "df_final = df_grouped.groupby(['Descrição da Unidade', 'Data_Dia']).agg('sum').rolling(7).mean().reset_index()"
   ]
  },
  {
   "cell_type": "markdown",
   "metadata": {},
   "source": [
    "### Drop 7 first rows because of rolling window"
   ]
  },
  {
   "cell_type": "code",
   "execution_count": 33,
   "metadata": {},
   "outputs": [],
   "source": [
    "df_final = df_final.dropna()"
   ]
  },
  {
   "cell_type": "code",
   "execution_count": 34,
   "metadata": {},
   "outputs": [
    {
     "data": {
      "text/html": [
       "<div>\n",
       "<style scoped>\n",
       "    .dataframe tbody tr th:only-of-type {\n",
       "        vertical-align: middle;\n",
       "    }\n",
       "\n",
       "    .dataframe tbody tr th {\n",
       "        vertical-align: top;\n",
       "    }\n",
       "\n",
       "    .dataframe thead th {\n",
       "        text-align: right;\n",
       "    }\n",
       "</style>\n",
       "<table border=\"1\" class=\"dataframe\">\n",
       "  <thead>\n",
       "    <tr style=\"text-align: right;\">\n",
       "      <th></th>\n",
       "      <th>Descrição da Unidade</th>\n",
       "      <th>Data_Dia</th>\n",
       "      <th>Habitacao_ma_qualidade</th>\n",
       "      <th>Lixo_ma_qualidade</th>\n",
       "      <th>Sem_energia</th>\n",
       "      <th>Sem_Carro</th>\n",
       "    </tr>\n",
       "  </thead>\n",
       "  <tbody>\n",
       "    <tr>\n",
       "      <th>8361</th>\n",
       "      <td>UPA TATUQUARA</td>\n",
       "      <td>2018-01-07</td>\n",
       "      <td>45.285714</td>\n",
       "      <td>4.428571</td>\n",
       "      <td>22.428571</td>\n",
       "      <td>250.285714</td>\n",
       "    </tr>\n",
       "    <tr>\n",
       "      <th>7755</th>\n",
       "      <td>UPA BOQUEIRAO</td>\n",
       "      <td>2018-01-07</td>\n",
       "      <td>44.857143</td>\n",
       "      <td>3.857143</td>\n",
       "      <td>15.714286</td>\n",
       "      <td>148.714286</td>\n",
       "    </tr>\n",
       "    <tr>\n",
       "      <th>7941</th>\n",
       "      <td>UPA CAMPO COMPRIDO</td>\n",
       "      <td>2018-01-07</td>\n",
       "      <td>36.000000</td>\n",
       "      <td>3.000000</td>\n",
       "      <td>19.142857</td>\n",
       "      <td>220.571429</td>\n",
       "    </tr>\n",
       "    <tr>\n",
       "      <th>7848</th>\n",
       "      <td>UPA CAJURU</td>\n",
       "      <td>2018-01-07</td>\n",
       "      <td>42.571429</td>\n",
       "      <td>5.142857</td>\n",
       "      <td>10.714286</td>\n",
       "      <td>172.000000</td>\n",
       "    </tr>\n",
       "    <tr>\n",
       "      <th>8175</th>\n",
       "      <td>UPA PINHEIRINHO</td>\n",
       "      <td>2018-01-07</td>\n",
       "      <td>28.428571</td>\n",
       "      <td>2.857143</td>\n",
       "      <td>13.857143</td>\n",
       "      <td>176.571429</td>\n",
       "    </tr>\n",
       "  </tbody>\n",
       "</table>\n",
       "</div>"
      ],
      "text/plain": [
       "     Descrição da Unidade   Data_Dia  Habitacao_ma_qualidade  \\\n",
       "8361        UPA TATUQUARA 2018-01-07               45.285714   \n",
       "7755        UPA BOQUEIRAO 2018-01-07               44.857143   \n",
       "7941   UPA CAMPO COMPRIDO 2018-01-07               36.000000   \n",
       "7848           UPA CAJURU 2018-01-07               42.571429   \n",
       "8175      UPA PINHEIRINHO 2018-01-07               28.428571   \n",
       "\n",
       "      Lixo_ma_qualidade  Sem_energia   Sem_Carro  \n",
       "8361           4.428571    22.428571  250.285714  \n",
       "7755           3.857143    15.714286  148.714286  \n",
       "7941           3.000000    19.142857  220.571429  \n",
       "7848           5.142857    10.714286  172.000000  \n",
       "8175           2.857143    13.857143  176.571429  "
      ]
     },
     "execution_count": 34,
     "metadata": {},
     "output_type": "execute_result"
    }
   ],
   "source": [
    "df_final.sort_values('Data_Dia').head()"
   ]
  },
  {
   "cell_type": "code",
   "execution_count": 35,
   "metadata": {},
   "outputs": [],
   "source": [
    "df_final['weekday'] = df_final['Data_Dia'].dt.dayofweek"
   ]
  },
  {
   "cell_type": "code",
   "execution_count": 36,
   "metadata": {},
   "outputs": [
    {
     "data": {
      "text/plain": [
       "(8448, 7)"
      ]
     },
     "execution_count": 36,
     "metadata": {},
     "output_type": "execute_result"
    }
   ],
   "source": [
    "df_final.shape"
   ]
  },
  {
   "cell_type": "code",
   "execution_count": 37,
   "metadata": {},
   "outputs": [
    {
     "data": {
      "text/html": [
       "<div>\n",
       "<style scoped>\n",
       "    .dataframe tbody tr th:only-of-type {\n",
       "        vertical-align: middle;\n",
       "    }\n",
       "\n",
       "    .dataframe tbody tr th {\n",
       "        vertical-align: top;\n",
       "    }\n",
       "\n",
       "    .dataframe thead th {\n",
       "        text-align: right;\n",
       "    }\n",
       "</style>\n",
       "<table border=\"1\" class=\"dataframe\">\n",
       "  <thead>\n",
       "    <tr style=\"text-align: right;\">\n",
       "      <th></th>\n",
       "      <th>Descrição da Unidade</th>\n",
       "      <th>Data_Dia</th>\n",
       "      <th>Habitacao_ma_qualidade</th>\n",
       "      <th>Lixo_ma_qualidade</th>\n",
       "      <th>Sem_energia</th>\n",
       "      <th>Sem_Carro</th>\n",
       "      <th>weekday</th>\n",
       "    </tr>\n",
       "  </thead>\n",
       "  <tbody>\n",
       "    <tr>\n",
       "      <th>6</th>\n",
       "      <td>CENTRO DE ESPECIALIDADES MAE CURITIBANA</td>\n",
       "      <td>2018-04-07</td>\n",
       "      <td>10.857143</td>\n",
       "      <td>2.285714</td>\n",
       "      <td>6.428571</td>\n",
       "      <td>58.571429</td>\n",
       "      <td>5</td>\n",
       "    </tr>\n",
       "    <tr>\n",
       "      <th>7</th>\n",
       "      <td>CENTRO DE ESPECIALIDADES MAE CURITIBANA</td>\n",
       "      <td>2018-04-09</td>\n",
       "      <td>12.285714</td>\n",
       "      <td>1.714286</td>\n",
       "      <td>7.142857</td>\n",
       "      <td>67.428571</td>\n",
       "      <td>0</td>\n",
       "    </tr>\n",
       "    <tr>\n",
       "      <th>8</th>\n",
       "      <td>CENTRO DE ESPECIALIDADES MAE CURITIBANA</td>\n",
       "      <td>2018-05-07</td>\n",
       "      <td>11.285714</td>\n",
       "      <td>1.285714</td>\n",
       "      <td>7.142857</td>\n",
       "      <td>70.857143</td>\n",
       "      <td>0</td>\n",
       "    </tr>\n",
       "    <tr>\n",
       "      <th>9</th>\n",
       "      <td>CENTRO DE ESPECIALIDADES MAE CURITIBANA</td>\n",
       "      <td>2018-05-09</td>\n",
       "      <td>14.428571</td>\n",
       "      <td>1.285714</td>\n",
       "      <td>6.428571</td>\n",
       "      <td>76.000000</td>\n",
       "      <td>2</td>\n",
       "    </tr>\n",
       "    <tr>\n",
       "      <th>10</th>\n",
       "      <td>CENTRO DE ESPECIALIDADES MAE CURITIBANA</td>\n",
       "      <td>2018-06-07</td>\n",
       "      <td>12.714286</td>\n",
       "      <td>0.714286</td>\n",
       "      <td>6.000000</td>\n",
       "      <td>68.857143</td>\n",
       "      <td>3</td>\n",
       "    </tr>\n",
       "  </tbody>\n",
       "</table>\n",
       "</div>"
      ],
      "text/plain": [
       "                       Descrição da Unidade   Data_Dia  \\\n",
       "6   CENTRO DE ESPECIALIDADES MAE CURITIBANA 2018-04-07   \n",
       "7   CENTRO DE ESPECIALIDADES MAE CURITIBANA 2018-04-09   \n",
       "8   CENTRO DE ESPECIALIDADES MAE CURITIBANA 2018-05-07   \n",
       "9   CENTRO DE ESPECIALIDADES MAE CURITIBANA 2018-05-09   \n",
       "10  CENTRO DE ESPECIALIDADES MAE CURITIBANA 2018-06-07   \n",
       "\n",
       "    Habitacao_ma_qualidade  Lixo_ma_qualidade  Sem_energia  Sem_Carro  weekday  \n",
       "6                10.857143           2.285714     6.428571  58.571429        5  \n",
       "7                12.285714           1.714286     7.142857  67.428571        0  \n",
       "8                11.285714           1.285714     7.142857  70.857143        0  \n",
       "9                14.428571           1.285714     6.428571  76.000000        2  \n",
       "10               12.714286           0.714286     6.000000  68.857143        3  "
      ]
     },
     "execution_count": 37,
     "metadata": {},
     "output_type": "execute_result"
    }
   ],
   "source": [
    "df_final.head()"
   ]
  },
  {
   "cell_type": "markdown",
   "metadata": {},
   "source": [
    "# Add Lat Long"
   ]
  },
  {
   "cell_type": "code",
   "execution_count": 38,
   "metadata": {},
   "outputs": [
    {
     "data": {
      "text/html": [
       "<div>\n",
       "<style scoped>\n",
       "    .dataframe tbody tr th:only-of-type {\n",
       "        vertical-align: middle;\n",
       "    }\n",
       "\n",
       "    .dataframe tbody tr th {\n",
       "        vertical-align: top;\n",
       "    }\n",
       "\n",
       "    .dataframe thead th {\n",
       "        text-align: right;\n",
       "    }\n",
       "</style>\n",
       "<table border=\"1\" class=\"dataframe\">\n",
       "  <thead>\n",
       "    <tr style=\"text-align: right;\">\n",
       "      <th></th>\n",
       "      <th>Descrição da Unidade</th>\n",
       "      <th>Lat</th>\n",
       "      <th>Long</th>\n",
       "    </tr>\n",
       "  </thead>\n",
       "  <tbody>\n",
       "    <tr>\n",
       "      <th>0</th>\n",
       "      <td>CENTRO DE ESPECIALIDADES MAE CURITIBANA</td>\n",
       "      <td>-25.424009</td>\n",
       "      <td>-49.276112</td>\n",
       "    </tr>\n",
       "    <tr>\n",
       "      <th>1</th>\n",
       "      <td>CENTRO DE ESPECIALIDADES MEDICAS MATRIZ</td>\n",
       "      <td>-25.433020</td>\n",
       "      <td>-49.271729</td>\n",
       "    </tr>\n",
       "    <tr>\n",
       "      <th>2</th>\n",
       "      <td>CENTRO DE ESPECIALIDADES OUVIDOR PARDINHO</td>\n",
       "      <td>-25.443760</td>\n",
       "      <td>-49.271271</td>\n",
       "    </tr>\n",
       "    <tr>\n",
       "      <th>3</th>\n",
       "      <td>CENTRO DE ESPECIALIDADES SALGADO FILHO</td>\n",
       "      <td>-25.488461</td>\n",
       "      <td>-49.223061</td>\n",
       "    </tr>\n",
       "    <tr>\n",
       "      <th>4</th>\n",
       "      <td>CENTRO DE ESPECIALIDADES SANTA FELICIDADE</td>\n",
       "      <td>-25.412571</td>\n",
       "      <td>-49.350670</td>\n",
       "    </tr>\n",
       "  </tbody>\n",
       "</table>\n",
       "</div>"
      ],
      "text/plain": [
       "                        Descrição da Unidade        Lat       Long\n",
       "0    CENTRO DE ESPECIALIDADES MAE CURITIBANA -25.424009 -49.276112\n",
       "1    CENTRO DE ESPECIALIDADES MEDICAS MATRIZ -25.433020 -49.271729\n",
       "2  CENTRO DE ESPECIALIDADES OUVIDOR PARDINHO -25.443760 -49.271271\n",
       "3     CENTRO DE ESPECIALIDADES SALGADO FILHO -25.488461 -49.223061\n",
       "4  CENTRO DE ESPECIALIDADES SANTA FELICIDADE -25.412571 -49.350670"
      ]
     },
     "execution_count": 38,
     "metadata": {},
     "output_type": "execute_result"
    }
   ],
   "source": [
    "df_lat_long = pd.read_csv('lat_long.csv')\n",
    "df_lat_long.head()"
   ]
  },
  {
   "cell_type": "code",
   "execution_count": 39,
   "metadata": {},
   "outputs": [],
   "source": [
    "df_final = df_final.merge(df_lat_long)"
   ]
  },
  {
   "cell_type": "markdown",
   "metadata": {},
   "source": [
    "# Add Temperature"
   ]
  },
  {
   "cell_type": "code",
   "execution_count": 40,
   "metadata": {},
   "outputs": [],
   "source": [
    "df_temp = pd.read_csv('s3://g13batalha/temp_JUL_NOV_2018.csv',\n",
    "                      sep=',', error_bad_lines=False, low_memory=False, encoding='windows_1252')"
   ]
  },
  {
   "cell_type": "code",
   "execution_count": 41,
   "metadata": {},
   "outputs": [],
   "source": [
    "df_temp.columns = ['Data_Dia', 'temp_max', 'temp_min']"
   ]
  },
  {
   "cell_type": "code",
   "execution_count": 42,
   "metadata": {},
   "outputs": [
    {
     "data": {
      "text/html": [
       "<div>\n",
       "<style scoped>\n",
       "    .dataframe tbody tr th:only-of-type {\n",
       "        vertical-align: middle;\n",
       "    }\n",
       "\n",
       "    .dataframe tbody tr th {\n",
       "        vertical-align: top;\n",
       "    }\n",
       "\n",
       "    .dataframe thead th {\n",
       "        text-align: right;\n",
       "    }\n",
       "</style>\n",
       "<table border=\"1\" class=\"dataframe\">\n",
       "  <thead>\n",
       "    <tr style=\"text-align: right;\">\n",
       "      <th></th>\n",
       "      <th>Data_Dia</th>\n",
       "      <th>temp_max</th>\n",
       "      <th>temp_min</th>\n",
       "    </tr>\n",
       "  </thead>\n",
       "  <tbody>\n",
       "    <tr>\n",
       "      <th>0</th>\n",
       "      <td>01/07/2018</td>\n",
       "      <td>23</td>\n",
       "      <td>13</td>\n",
       "    </tr>\n",
       "    <tr>\n",
       "      <th>1</th>\n",
       "      <td>02/07/2018</td>\n",
       "      <td>24</td>\n",
       "      <td>11</td>\n",
       "    </tr>\n",
       "    <tr>\n",
       "      <th>2</th>\n",
       "      <td>03/07/2018</td>\n",
       "      <td>20</td>\n",
       "      <td>10</td>\n",
       "    </tr>\n",
       "    <tr>\n",
       "      <th>3</th>\n",
       "      <td>04/07/2018</td>\n",
       "      <td>19</td>\n",
       "      <td>10</td>\n",
       "    </tr>\n",
       "    <tr>\n",
       "      <th>4</th>\n",
       "      <td>05/07/2018</td>\n",
       "      <td>24</td>\n",
       "      <td>10</td>\n",
       "    </tr>\n",
       "  </tbody>\n",
       "</table>\n",
       "</div>"
      ],
      "text/plain": [
       "     Data_Dia  temp_max  temp_min\n",
       "0  01/07/2018        23        13\n",
       "1  02/07/2018        24        11\n",
       "2  03/07/2018        20        10\n",
       "3  04/07/2018        19        10\n",
       "4  05/07/2018        24        10"
      ]
     },
     "execution_count": 42,
     "metadata": {},
     "output_type": "execute_result"
    }
   ],
   "source": [
    "df_temp.head()"
   ]
  },
  {
   "cell_type": "code",
   "execution_count": 43,
   "metadata": {},
   "outputs": [],
   "source": [
    "df_temp['Data_Dia'] = pd.to_datetime(df_temp['Data_Dia'])"
   ]
  },
  {
   "cell_type": "code",
   "execution_count": 44,
   "metadata": {},
   "outputs": [],
   "source": [
    "df_final = df_final.merge(df_temp)"
   ]
  },
  {
   "cell_type": "markdown",
   "metadata": {},
   "source": [
    "# Merge Target Value"
   ]
  },
  {
   "cell_type": "code",
   "execution_count": 45,
   "metadata": {},
   "outputs": [
    {
     "data": {
      "text/plain": [
       "(8448, 11)"
      ]
     },
     "execution_count": 45,
     "metadata": {},
     "output_type": "execute_result"
    }
   ],
   "source": [
    "df_final.shape"
   ]
  },
  {
   "cell_type": "code",
   "execution_count": 46,
   "metadata": {},
   "outputs": [
    {
     "data": {
      "text/plain": [
       "(8454, 3)"
      ]
     },
     "execution_count": 46,
     "metadata": {},
     "output_type": "execute_result"
    }
   ],
   "source": [
    "df_target.shape"
   ]
  },
  {
   "cell_type": "code",
   "execution_count": 47,
   "metadata": {
    "scrolled": true
   },
   "outputs": [],
   "source": [
    "df_final = df_final.merge(df_target, on=['Data_Dia', 'Descrição da Unidade'])"
   ]
  },
  {
   "cell_type": "code",
   "execution_count": 48,
   "metadata": {},
   "outputs": [],
   "source": [
    "df_model = df_final"
   ]
  },
  {
   "cell_type": "code",
   "execution_count": 49,
   "metadata": {},
   "outputs": [
    {
     "data": {
      "text/plain": [
       "(8448, 12)"
      ]
     },
     "execution_count": 49,
     "metadata": {},
     "output_type": "execute_result"
    }
   ],
   "source": [
    "df_model.shape"
   ]
  },
  {
   "cell_type": "code",
   "execution_count": 50,
   "metadata": {},
   "outputs": [
    {
     "data": {
      "text/html": [
       "<div>\n",
       "<style scoped>\n",
       "    .dataframe tbody tr th:only-of-type {\n",
       "        vertical-align: middle;\n",
       "    }\n",
       "\n",
       "    .dataframe tbody tr th {\n",
       "        vertical-align: top;\n",
       "    }\n",
       "\n",
       "    .dataframe thead th {\n",
       "        text-align: right;\n",
       "    }\n",
       "</style>\n",
       "<table border=\"1\" class=\"dataframe\">\n",
       "  <thead>\n",
       "    <tr style=\"text-align: right;\">\n",
       "      <th></th>\n",
       "      <th>Descrição da Unidade</th>\n",
       "      <th>Data_Dia</th>\n",
       "      <th>Habitacao_ma_qualidade</th>\n",
       "      <th>Lixo_ma_qualidade</th>\n",
       "      <th>Sem_energia</th>\n",
       "      <th>Sem_Carro</th>\n",
       "      <th>weekday</th>\n",
       "      <th>Lat</th>\n",
       "      <th>Long</th>\n",
       "      <th>temp_max</th>\n",
       "      <th>temp_min</th>\n",
       "      <th>Atendimentos</th>\n",
       "    </tr>\n",
       "  </thead>\n",
       "  <tbody>\n",
       "    <tr>\n",
       "      <th>0</th>\n",
       "      <td>CENTRO DE ESPECIALIDADES MAE CURITIBANA</td>\n",
       "      <td>2018-04-07</td>\n",
       "      <td>10.857143</td>\n",
       "      <td>2.285714</td>\n",
       "      <td>6.428571</td>\n",
       "      <td>58.571429</td>\n",
       "      <td>5</td>\n",
       "      <td>-25.424009</td>\n",
       "      <td>-49.276112</td>\n",
       "      <td>19</td>\n",
       "      <td>10</td>\n",
       "      <td>96</td>\n",
       "    </tr>\n",
       "    <tr>\n",
       "      <th>1</th>\n",
       "      <td>CENTRO DE ESPECIALIDADES MEDICAS MATRIZ</td>\n",
       "      <td>2018-04-07</td>\n",
       "      <td>10.857143</td>\n",
       "      <td>0.571429</td>\n",
       "      <td>2.285714</td>\n",
       "      <td>50.714286</td>\n",
       "      <td>5</td>\n",
       "      <td>-25.433020</td>\n",
       "      <td>-49.271729</td>\n",
       "      <td>19</td>\n",
       "      <td>10</td>\n",
       "      <td>77</td>\n",
       "    </tr>\n",
       "    <tr>\n",
       "      <th>2</th>\n",
       "      <td>CENTRO DE ESPECIALIDADES OUVIDOR PARDINHO</td>\n",
       "      <td>2018-04-07</td>\n",
       "      <td>3.857143</td>\n",
       "      <td>0.000000</td>\n",
       "      <td>1.000000</td>\n",
       "      <td>16.000000</td>\n",
       "      <td>5</td>\n",
       "      <td>-25.443760</td>\n",
       "      <td>-49.271271</td>\n",
       "      <td>19</td>\n",
       "      <td>10</td>\n",
       "      <td>7</td>\n",
       "    </tr>\n",
       "    <tr>\n",
       "      <th>3</th>\n",
       "      <td>CENTRO DE ESPECIALIDADES SALGADO FILHO</td>\n",
       "      <td>2018-04-07</td>\n",
       "      <td>3.428571</td>\n",
       "      <td>0.428571</td>\n",
       "      <td>1.857143</td>\n",
       "      <td>23.571429</td>\n",
       "      <td>5</td>\n",
       "      <td>-25.488461</td>\n",
       "      <td>-49.223061</td>\n",
       "      <td>19</td>\n",
       "      <td>10</td>\n",
       "      <td>36</td>\n",
       "    </tr>\n",
       "    <tr>\n",
       "      <th>4</th>\n",
       "      <td>CENTRO DE ESPECIALIDADES SANTA FELICIDADE</td>\n",
       "      <td>2018-04-07</td>\n",
       "      <td>21.714286</td>\n",
       "      <td>2.142857</td>\n",
       "      <td>9.142857</td>\n",
       "      <td>106.428571</td>\n",
       "      <td>5</td>\n",
       "      <td>-25.412571</td>\n",
       "      <td>-49.350670</td>\n",
       "      <td>19</td>\n",
       "      <td>10</td>\n",
       "      <td>167</td>\n",
       "    </tr>\n",
       "  </tbody>\n",
       "</table>\n",
       "</div>"
      ],
      "text/plain": [
       "                        Descrição da Unidade   Data_Dia  \\\n",
       "0    CENTRO DE ESPECIALIDADES MAE CURITIBANA 2018-04-07   \n",
       "1    CENTRO DE ESPECIALIDADES MEDICAS MATRIZ 2018-04-07   \n",
       "2  CENTRO DE ESPECIALIDADES OUVIDOR PARDINHO 2018-04-07   \n",
       "3     CENTRO DE ESPECIALIDADES SALGADO FILHO 2018-04-07   \n",
       "4  CENTRO DE ESPECIALIDADES SANTA FELICIDADE 2018-04-07   \n",
       "\n",
       "   Habitacao_ma_qualidade  Lixo_ma_qualidade  Sem_energia   Sem_Carro  \\\n",
       "0               10.857143           2.285714     6.428571   58.571429   \n",
       "1               10.857143           0.571429     2.285714   50.714286   \n",
       "2                3.857143           0.000000     1.000000   16.000000   \n",
       "3                3.428571           0.428571     1.857143   23.571429   \n",
       "4               21.714286           2.142857     9.142857  106.428571   \n",
       "\n",
       "   weekday        Lat       Long  temp_max  temp_min  Atendimentos  \n",
       "0        5 -25.424009 -49.276112        19        10            96  \n",
       "1        5 -25.433020 -49.271729        19        10            77  \n",
       "2        5 -25.443760 -49.271271        19        10             7  \n",
       "3        5 -25.488461 -49.223061        19        10            36  \n",
       "4        5 -25.412571 -49.350670        19        10           167  "
      ]
     },
     "execution_count": 50,
     "metadata": {},
     "output_type": "execute_result"
    }
   ],
   "source": [
    "df_model.head()"
   ]
  },
  {
   "cell_type": "markdown",
   "metadata": {},
   "source": [
    "# Modeling"
   ]
  },
  {
   "cell_type": "code",
   "execution_count": 51,
   "metadata": {},
   "outputs": [],
   "source": [
    "import sys\n",
    "from sklearn.svm import SVR\n",
    "from sklearn.ensemble import RandomForestRegressor\n",
    "from sklearn.linear_model import LinearRegression\n",
    "from pykrige.rk import RegressionKriging\n",
    "from pykrige.compat import train_test_split"
   ]
  },
  {
   "cell_type": "code",
   "execution_count": 52,
   "metadata": {},
   "outputs": [],
   "source": [
    "svr_model = SVR(C=0.1)\n",
    "rf_model = RandomForestRegressor(n_estimators=100)\n",
    "lr_model = LinearRegression(normalize=True, copy_X=True, fit_intercept=False)\n",
    "\n",
    "models = [svr_model, rf_model, lr_model]"
   ]
  },
  {
   "cell_type": "code",
   "execution_count": 53,
   "metadata": {},
   "outputs": [
    {
     "name": "stdout",
     "output_type": "stream",
     "text": [
      "========================================\n",
      "regression model: SVR\n",
      "Finished learning regression model\n",
      "Finished kriging residuals\n",
      "Regression Score:  -0.06257524144526183\n",
      "RK score:  0.8225680109747848\n",
      "========================================\n",
      "regression model: RandomForestRegressor\n",
      "Finished learning regression model\n",
      "Finished kriging residuals\n",
      "Regression Score:  0.8651420500109129\n",
      "RK score:  0.8693780287410684\n",
      "========================================\n",
      "regression model: LinearRegression\n",
      "Finished learning regression model\n",
      "Finished kriging residuals\n",
      "Regression Score:  0.834032045552448\n",
      "RK score:  0.8461909124137805\n"
     ]
    }
   ],
   "source": [
    "target = df_model['Atendimentos'].values\n",
    "x = df_model[['Lat', 'Long']].values\n",
    "df_model = df_model.drop(['Lat', 'Long', 'Data_Dia', 'Atendimentos', 'Descrição da Unidade'], axis=1)\n",
    "p = df_model.values\n",
    "\n",
    "p_train, p_test, x_train, x_test, target_train, target_test \\\n",
    "    = train_test_split(p, x, target, test_size=0.3, random_state=42)\n",
    "\n",
    "for m in models:\n",
    "    print('=' * 40)\n",
    "    print('regression model:', m.__class__.__name__)\n",
    "    m_rk = RegressionKriging(regression_model=m, n_closest_points=10)\n",
    "    m_rk.fit(p_train, x_train, target_train)\n",
    "    print('Regression Score: ', m_rk.regression_model.score(p_test, target_test))\n",
    "    print('RK score: ', m_rk.score(p_test, x_test, target_test))"
   ]
  },
  {
   "cell_type": "code",
   "execution_count": null,
   "metadata": {},
   "outputs": [],
   "source": []
  }
 ],
 "metadata": {
  "kernelspec": {
   "display_name": "Python 3",
   "language": "python",
   "name": "python3"
  },
  "language_info": {
   "codemirror_mode": {
    "name": "ipython",
    "version": 3
   },
   "file_extension": ".py",
   "mimetype": "text/x-python",
   "name": "python",
   "nbconvert_exporter": "python",
   "pygments_lexer": "ipython3",
   "version": "3.6.4"
  }
 },
 "nbformat": 4,
 "nbformat_minor": 2
}
